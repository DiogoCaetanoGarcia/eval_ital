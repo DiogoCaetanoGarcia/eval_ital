{
 "cells": [
  {
   "cell_type": "code",
   "execution_count": null,
   "id": "ec731bc4",
   "metadata": {},
   "outputs": [],
   "source": [
    "from xml.dom import minidom\n",
    "from os import listdir, path\n",
    "from openpyxl import Workbook\n",
    "import time"
   ]
  },
  {
   "cell_type": "code",
   "execution_count": null,
   "id": "fa3e44e3",
   "metadata": {},
   "outputs": [],
   "source": [
    "def find_fields(xml_file_name, elms_attrs):\n",
    "\txmldoc = minidom.parse(xml_file_name) # Read XML file\n",
    "\tcur_list = []\n",
    "\tfor elms in elms_attrs:\n",
    "\t\titemlist = xmldoc.getElementsByTagName(elms[1]) # Look for tag\n",
    "\t\tif elms[3]: # elms[3]==True indicates we want a mere count of this tag\n",
    "\t\t\tcur_list.append(len(itemlist))\n",
    "\t\telse:       # elms[3]==False indicates we want a string with all found tags and attributes\n",
    "\t\t\tif (len(itemlist)==0): # Tag not found\n",
    "\t\t\t\tcur_list.append('')\n",
    "\t\t\telse: # Tag found\n",
    "\t\t\t\tattrs = [i.getAttribute(cur_attr) for i in itemlist for cur_attr in elms[2]]\n",
    "\t\t\t\ts = '/'\n",
    "\t\t\t\tif elms[4]:\n",
    "\t\t\t\t\tl = len(elms[2])\n",
    "\t\t\t\t\ttry:\n",
    "\t\t\t\t\t\tcur_index = attrs[0:-1:l].index('')\n",
    "\t\t\t\t\texcept ValueError:\n",
    "\t\t\t\t\t\tcur_index = -1\n",
    "\t\t\t\t\tif cur_index!=1:\n",
    "\t\t\t\t\t\tcur_index *= l\n",
    "\t\t\t\t\t\tcur_list.append(s.join(attrs[cur_index+1:cur_index+l]))\n",
    "\t\t\t\t\telse:\n",
    "\t\t\t\t\t\tcur_list.append('')\n",
    "\t\t\t\telse:\n",
    "\t\t\t\t\tcur_list.append(s.join(attrs))\n",
    "\treturn cur_list"
   ]
  },
  {
   "cell_type": "code",
   "execution_count": null,
   "id": "99a506bd",
   "metadata": {},
   "outputs": [],
   "source": [
    "def xmls_2_xlsx(xml_file_folder, elms_attrs, output_file_name):\n",
    "\twb = Workbook()\n",
    "\t# ws = wb.create_sheet()\n",
    "\tws = wb.active\n",
    "\tws.append([e[0] for e in elms_attrs])\n",
    "\tcont = 0\n",
    "\tt0 = time.perf_counter()\n",
    "\tfor arq in listdir(xml_file_folder):\n",
    "\t\tif arq[-4:] == '.xml':\n",
    "\t\t\tcont += 1\n",
    "\t\t\t# if cont<=100:\n",
    "\t\t\tws.append(find_fields(xml_file_folder+arq, elms_attrs))\n",
    "\t\t\tif cont % 100 == 0:\n",
    "\t\t\t\tt1 = time.perf_counter() \n",
    "\t\t\t\tprint(\"%d: %s (%f s)\" % (cont,arq,t1-t0))\n",
    "\t\t\t\tt0 = t1\n",
    "\tnewfilename = path.abspath(output_file_name)\n",
    "\twb.save(newfilename)\n",
    "\treturn"
   ]
  },
  {
   "cell_type": "code",
   "execution_count": null,
   "id": "7fa285e8",
   "metadata": {},
   "outputs": [],
   "source": [
    "folder = \"data/2021_04/\"\n",
    "# folder = \"data/\"\n",
    "\n",
    "xml_fields = [['Nome','DADOS-GERAIS',['NOME-COMPLETO'], False, False],\n",
    "\t['País de nascimento','DADOS-GERAIS',['PAIS-DE-NASCIMENTO'], False, False],\n",
    "\t['Data de atualização', 'CURRICULO-VITAE', ['DATA-ATUALIZACAO'], False, False],\n",
    "\t['Id Lattes', 'CURRICULO-VITAE', ['NUMERO-IDENTIFICADOR'] , False, False],\n",
    "\t['Instituição de atuação', 'ENDERECO-PROFISSIONAL', ['NOME-INSTITUICAO-EMPRESA','NOME-ORGAO','NOME-UNIDADE'], False, False],\n",
    "\t['Vínculo', 'VINCULOS', ['ANO-FIM','OUTRO-ENQUADRAMENTO-FUNCIONAL-INFORMADO','OUTRO-VINCULO-INFORMADO','TIPO-DE-VINCULO'], False, True],\n",
    "\t['País de atuação', 'ENDERECO-PROFISSIONAL', ['PAIS'], False, False],\n",
    "\t['Cidade', 'ENDERECO-PROFISSIONAL', ['CIDADE'], False, False],\n",
    "\t['Estado', 'ENDERECO-PROFISSIONAL', ['UF'], False, False],\n",
    "\t['CEP', 'ENDERECO-PROFISSIONAL', ['CEP'], False, False],\n",
    "\t['Doutorado (instituição/código/conclusão/obtenção)', 'DOUTORADO', ['NOME-INSTITUICAO','CODIGO-INSTITUICAO','ANO-DE-CONCLUSAO','ANO-DE-OBTENCAO-DO-TITULO'], False, False],\n",
    "\t['Mestrado (instituição/código/conclusão/obtenção)', 'MESTRADO', ['NOME-INSTITUICAO','CODIGO-INSTITUICAO','ANO-DE-CONCLUSAO','ANO-DE-OBTENCAO-DO-TITULO'], False, False],\n",
    "\t['Especialização (instituição/código/conclusão/obtenção)', 'ESPECIALIZACAO', ['NOME-INSTITUICAO','CODIGO-INSTITUICAO','ANO-DE-CONCLUSAO','ANO-DE-OBTENCAO-DO-TITULO'], False, False],\n",
    "\t['Graduação (instituição/código/conclusão/obtenção)', 'GRADUACAO', ['NOME-INSTITUICAO','CODIGO-INSTITUICAO','ANO-DE-CONCLUSAO','ANO-DE-OBTENCAO-DO-TITULO'], False, False],\n",
    "\t['Grande área de atuação', 'AREA-DE-ATUACAO', ['NOME-GRANDE-AREA-DO-CONHECIMENTO'], False, False],\n",
    "\t['Área de atuação', 'AREA-DE-ATUACAO', ['NOME-DA-AREA-DO-CONHECIMENTO'], False, False],\n",
    "\t['Sub-área de atuação', 'AREA-DE-ATUACAO', ['NOME-DA-SUB-AREA-DO-CONHECIMENTO'], False, False],\n",
    "\t['Especialidade', 'AREA-DE-ATUACAO', ['NOME-DA-ESPECIALIDADE'], False, False],\n",
    "\t['Trabalhos em eventos', 'TRABALHO-EM-EVENTOS', [''], True, False],\n",
    "\t['Artigos publicados', 'ARTIGO-PUBLICADO', [''], True, False],\n",
    "\t['Livros e capítulos', 'CAPITULO-DE-LIVRO-PUBLICADO', [''], True, False],\n",
    "\t['Participação em projetos', 'PARTICIPACAO-EM-PROJETO', [''], True, False],\n",
    "\t['Patentes', 'PATENTE', [''], True, False],\n",
    "\t['Processos ou técnicas', 'PROCESSOS-OU-TECNICAS', [''], True, False],\n",
    "\t['Trabalho técnico', 'TRABALHO-TECNICO', [''], True, False],\n",
    "\t['Orientações (doutorado)', 'ORIENTACOES-CONCLUIDAS-PARA-DOUTORADO', [''], True, False],\n",
    "\t['Orientações (mestrado)', 'ORIENTACOES-CONCLUIDAS-PARA-MESTRADO', [''], True, False],\n",
    "\t['Orientações (outras)', 'OUTRAS-ORIENTACOES-CONCLUIDAS', [''], True, False],\n",
    "\t]"
   ]
  },
  {
   "cell_type": "code",
   "execution_count": null,
   "id": "65ddcd28",
   "metadata": {},
   "outputs": [],
   "source": [
    "xmls_2_xlsx(folder, xml_fields, \"xml_to_excel.xlsx\")"
   ]
  }
 ],
 "metadata": {
  "kernelspec": {
   "display_name": "Python 3",
   "language": "python",
   "name": "python3"
  }
 },
 "nbformat": 4,
 "nbformat_minor": 5
}
