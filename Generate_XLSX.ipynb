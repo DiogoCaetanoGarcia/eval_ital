{
 "cells": [
  {
   "cell_type": "code",
   "execution_count": null,
   "id": "ec731bc4",
   "metadata": {},
   "outputs": [],
   "source": [
    "from xml.dom import minidom\n",
    "from os import listdir, path\n",
    "from openpyxl import Workbook\n",
    "import time"
   ]
  },
  {
   "cell_type": "code",
   "execution_count": null,
   "id": "fa3e44e3",
   "metadata": {},
   "outputs": [],
   "source": [
    "def find_fields(xml_file_name, elms_attrs):\n",
    "\txmldoc = minidom.parse(xml_file_name)\n",
    "\tcur_list = []\n",
    "\tfor elms in elms_attrs:\n",
    "\t\titemlist = xmldoc.getElementsByTagName(elms[1])\n",
    "\t\tif elms[3]:\n",
    "\t\t\tcur_list.append(str(len(itemlist)))\n",
    "\t\telse:\n",
    "\t\t\tif len(itemlist):\n",
    "\t\t\t\tif len(itemlist)==1:\n",
    "\t\t\t\t\tcur_list.append(itemlist[0].attributes[elms[2]].value)\n",
    "\t\t\t\telse:\n",
    "\t\t\t\t\tvals = [il.attributes[elms[2]].value for il in itemlist]\n",
    "\t\t\t\t\ts = ', '\n",
    "\t\t\t\t\tcur_list.append(s.join(list(set(vals))))\n",
    "\t\t\telse:\n",
    "\t\t\t\tcur_list.append('')\n",
    "\treturn cur_list"
   ]
  },
  {
   "cell_type": "code",
   "execution_count": null,
   "id": "99a506bd",
   "metadata": {},
   "outputs": [],
   "source": [
    "def xmls_2_xlsx(xml_file_folder, elms_attrs, output_file_name):\n",
    "\twb = Workbook()\n",
    "\t# ws = wb.create_sheet()\n",
    "\tws = wb.active\n",
    "\tws.append([e[0] for e in elms_attrs])\n",
    "\tcont = 0\n",
    "\tt0 = time.perf_counter()\n",
    "\tfor arq in listdir(xml_file_folder):\n",
    "\t\tif arq[-4:] == '.xml':\n",
    "\t\t\tcont += 1\n",
    "\t\t\t# if cont<=100:\n",
    "\t\t\tws.append(find_fields(xml_file_folder+arq, elms_attrs))\n",
    "\t\t\tif cont % 100 == 0:\n",
    "\t\t\t\tt1 = time.perf_counter() \n",
    "\t\t\t\tprint(\"%d: %s (%f s)\" % (cont,arq,t1-t0))\n",
    "\t\t\t\tt0 = t1\n",
    "\tnewfilename = path.abspath(output_file_name)\n",
    "\twb.save(newfilename)\n",
    "\treturn"
   ]
  },
  {
   "cell_type": "code",
   "execution_count": null,
   "id": "7fa285e8",
   "metadata": {},
   "outputs": [],
   "source": [
    "folder = \"Dados/\"\n",
    "# folder = \"Testes/\"\n",
    "\n",
    "xml_fields = [\n",
    "\t['Nome','DADOS-GERAIS','NOME-COMPLETO', False],\n",
    "\t['País de nascimento','DADOS-GERAIS','PAIS-DE-NASCIMENTO', False],\n",
    "\t['Cidade', 'ENDERECO-PROFISSIONAL', 'CIDADE', False],\n",
    "\t['Estado', 'ENDERECO-PROFISSIONAL', 'UF', False],\n",
    "\t['Instituição', 'ENDERECO-PROFISSIONAL', 'NOME-INSTITUICAO-EMPRESA', False],\n",
    "\t['Órgão', 'ENDERECO-PROFISSIONAL', 'NOME-ORGAO', False],\n",
    "\t['Unidade', 'ENDERECO-PROFISSIONAL', 'NOME-UNIDADE', False],\n",
    "\t['CEP', 'ENDERECO-PROFISSIONAL', 'CEP', False],\n",
    "\t['Doutorado', 'DOUTORADO', 'ANO-DE-OBTENCAO-DO-TITULO', False],\n",
    "\t['Mestrado', 'MESTRADO', 'ANO-DE-OBTENCAO-DO-TITULO', False],\n",
    "\t['Especialização', 'ESPECIALIZACAO', 'ANO-DE-CONCLUSAO', False],\n",
    "\t['Graduação', 'GRADUACAO', 'ANO-DE-CONCLUSAO', False],\n",
    "\t['Grande área de atuação', 'AREA-DE-ATUACAO', 'NOME-GRANDE-AREA-DO-CONHECIMENTO', False],\n",
    "\t['Área de atuação', 'AREA-DE-ATUACAO', 'NOME-DA-AREA-DO-CONHECIMENTO', False],\n",
    "\t['Sub-área de atuação', 'AREA-DE-ATUACAO', 'NOME-DA-SUB-AREA-DO-CONHECIMENTO', False],\n",
    "\t['Especialidade', 'AREA-DE-ATUACAO', 'NOME-DA-ESPECIALIDADE', False],\n",
    "\t['Trabalhos em eventos', 'TRABALHO-EM-EVENTOS', '', True],\n",
    "\t['Artigos publicados', 'ARTIGO-PUBLICADO', '', True],\n",
    "\t['Livros e capítulos', 'CAPITULO-DE-LIVRO-PUBLICADO', '', True],\n",
    "\t['Patentes', 'PATENTE', '', True],\n",
    "\t['Processos ou técnicas', 'PROCESSOS-OU-TECNICAS', '', True],\n",
    "\t['Trabalho técnico', 'TRABALHO-TECNICO', '', True],\n",
    "\t['Orientações (doutorado)', 'ORIENTACOES-CONCLUIDAS-PARA-DOUTORADO', '', True],\n",
    "\t['Orientações (mestrado)', 'ORIENTACOES-CONCLUIDAS-PARA-MESTRADO', '', True],\n",
    "\t['Orientações (outras)', 'OUTRAS-ORIENTACOES-CONCLUIDAS', '', True],\n",
    "\t]\n",
    "xmls_2_xlsx(folder, xml_fields, \"xml_to_excel.xlsx\")"
   ]
  },
  {
   "cell_type": "code",
   "execution_count": null,
   "id": "65ddcd28",
   "metadata": {},
   "outputs": [],
   "source": []
  }
 ],
 "metadata": {
  "kernelspec": {
   "display_name": "Python 3",
   "language": "python",
   "name": "python3"
  }
 },
 "nbformat": 4,
 "nbformat_minor": 5
}
